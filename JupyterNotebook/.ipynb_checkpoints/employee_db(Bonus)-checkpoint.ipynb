{
 "cells": [
  {
   "cell_type": "code",
   "execution_count": 1,
   "metadata": {},
   "outputs": [],
   "source": [
    "# Dependencies\n",
    "import matplotlib.mlab as mlab\n",
    "import matplotlib.pyplot as plt\n",
    "import pandas as pd\n",
    "import numpy as np\n",
    "import os\n",
    "mypassword = os.getenv(\"POSTGRESQL_PASSWORD\")"
   ]
  },
  {
   "cell_type": "code",
   "execution_count": 2,
   "metadata": {},
   "outputs": [],
   "source": [
    "# Create engine\n",
    "from sqlalchemy import create_engine\n",
    "engine = create_engine('postgresql://postgres:' + mypassword + '@localhost:5432/employee_db')\n",
    "connection = engine.connect()"
   ]
  },
  {
   "cell_type": "code",
   "execution_count": 3,
   "metadata": {},
   "outputs": [
    {
     "data": {
      "text/html": [
       "<div>\n",
       "<style scoped>\n",
       "    .dataframe tbody tr th:only-of-type {\n",
       "        vertical-align: middle;\n",
       "    }\n",
       "\n",
       "    .dataframe tbody tr th {\n",
       "        vertical-align: top;\n",
       "    }\n",
       "\n",
       "    .dataframe thead th {\n",
       "        text-align: right;\n",
       "    }\n",
       "</style>\n",
       "<table border=\"1\" class=\"dataframe\">\n",
       "  <thead>\n",
       "    <tr style=\"text-align: right;\">\n",
       "      <th></th>\n",
       "      <th>emp_no</th>\n",
       "      <th>salary</th>\n",
       "      <th>from_date</th>\n",
       "      <th>to_date</th>\n",
       "    </tr>\n",
       "  </thead>\n",
       "  <tbody>\n",
       "    <tr>\n",
       "      <th>0</th>\n",
       "      <td>10001</td>\n",
       "      <td>60117</td>\n",
       "      <td>1986-06-26</td>\n",
       "      <td>1987-06-26</td>\n",
       "    </tr>\n",
       "    <tr>\n",
       "      <th>1</th>\n",
       "      <td>10002</td>\n",
       "      <td>65828</td>\n",
       "      <td>1996-08-03</td>\n",
       "      <td>1997-08-03</td>\n",
       "    </tr>\n",
       "    <tr>\n",
       "      <th>2</th>\n",
       "      <td>10003</td>\n",
       "      <td>40006</td>\n",
       "      <td>1995-12-03</td>\n",
       "      <td>1996-12-02</td>\n",
       "    </tr>\n",
       "    <tr>\n",
       "      <th>3</th>\n",
       "      <td>10004</td>\n",
       "      <td>40054</td>\n",
       "      <td>1986-12-01</td>\n",
       "      <td>1987-12-01</td>\n",
       "    </tr>\n",
       "    <tr>\n",
       "      <th>4</th>\n",
       "      <td>10005</td>\n",
       "      <td>78228</td>\n",
       "      <td>1989-09-12</td>\n",
       "      <td>1990-09-12</td>\n",
       "    </tr>\n",
       "  </tbody>\n",
       "</table>\n",
       "</div>"
      ],
      "text/plain": [
       "   emp_no  salary   from_date     to_date\n",
       "0   10001   60117  1986-06-26  1987-06-26\n",
       "1   10002   65828  1996-08-03  1997-08-03\n",
       "2   10003   40006  1995-12-03  1996-12-02\n",
       "3   10004   40054  1986-12-01  1987-12-01\n",
       "4   10005   78228  1989-09-12  1990-09-12"
      ]
     },
     "execution_count": 3,
     "metadata": {},
     "output_type": "execute_result"
    }
   ],
   "source": [
    "# Query all the records in the 'salaries' table.\n",
    "salaries_data = pd.read_sql(\"SELECT * FROM salaries\", connection)\n",
    "\n",
    "# Preview 'salaries' data\n",
    "salaries_data.head()"
   ]
  },
  {
   "cell_type": "code",
   "execution_count": 4,
   "metadata": {
    "scrolled": true
   },
   "outputs": [
    {
     "data": {
      "text/html": [
       "<div>\n",
       "<style scoped>\n",
       "    .dataframe tbody tr th:only-of-type {\n",
       "        vertical-align: middle;\n",
       "    }\n",
       "\n",
       "    .dataframe tbody tr th {\n",
       "        vertical-align: top;\n",
       "    }\n",
       "\n",
       "    .dataframe thead th {\n",
       "        text-align: right;\n",
       "    }\n",
       "</style>\n",
       "<table border=\"1\" class=\"dataframe\">\n",
       "  <thead>\n",
       "    <tr style=\"text-align: right;\">\n",
       "      <th></th>\n",
       "      <th>emp_no</th>\n",
       "      <th>title</th>\n",
       "      <th>from_date</th>\n",
       "      <th>to_date</th>\n",
       "    </tr>\n",
       "  </thead>\n",
       "  <tbody>\n",
       "    <tr>\n",
       "      <th>0</th>\n",
       "      <td>10001</td>\n",
       "      <td>Senior Engineer</td>\n",
       "      <td>1986-06-26</td>\n",
       "      <td>9999-01-01</td>\n",
       "    </tr>\n",
       "    <tr>\n",
       "      <th>1</th>\n",
       "      <td>10002</td>\n",
       "      <td>Staff</td>\n",
       "      <td>1996-08-03</td>\n",
       "      <td>9999-01-01</td>\n",
       "    </tr>\n",
       "    <tr>\n",
       "      <th>2</th>\n",
       "      <td>10003</td>\n",
       "      <td>Senior Engineer</td>\n",
       "      <td>1995-12-03</td>\n",
       "      <td>9999-01-01</td>\n",
       "    </tr>\n",
       "    <tr>\n",
       "      <th>3</th>\n",
       "      <td>10004</td>\n",
       "      <td>Engineer</td>\n",
       "      <td>1986-12-01</td>\n",
       "      <td>1995-12-01</td>\n",
       "    </tr>\n",
       "    <tr>\n",
       "      <th>4</th>\n",
       "      <td>10004</td>\n",
       "      <td>Senior Engineer</td>\n",
       "      <td>1995-12-01</td>\n",
       "      <td>9999-01-01</td>\n",
       "    </tr>\n",
       "  </tbody>\n",
       "</table>\n",
       "</div>"
      ],
      "text/plain": [
       "   emp_no            title   from_date     to_date\n",
       "0   10001  Senior Engineer  1986-06-26  9999-01-01\n",
       "1   10002            Staff  1996-08-03  9999-01-01\n",
       "2   10003  Senior Engineer  1995-12-03  9999-01-01\n",
       "3   10004         Engineer  1986-12-01  1995-12-01\n",
       "4   10004  Senior Engineer  1995-12-01  9999-01-01"
      ]
     },
     "execution_count": 4,
     "metadata": {},
     "output_type": "execute_result"
    }
   ],
   "source": [
    "# Query all the records in the 'titles' table.\n",
    "titles_data = pd.read_sql(\"SELECT * FROM titles\", connection)\n",
    "\n",
    "# Preview 'titles' data\n",
    "titles_data.head()"
   ]
  },
  {
   "cell_type": "code",
   "execution_count": 5,
   "metadata": {},
   "outputs": [
    {
     "data": {
      "text/html": [
       "<div>\n",
       "<style scoped>\n",
       "    .dataframe tbody tr th:only-of-type {\n",
       "        vertical-align: middle;\n",
       "    }\n",
       "\n",
       "    .dataframe tbody tr th {\n",
       "        vertical-align: top;\n",
       "    }\n",
       "\n",
       "    .dataframe thead th {\n",
       "        text-align: right;\n",
       "    }\n",
       "</style>\n",
       "<table border=\"1\" class=\"dataframe\">\n",
       "  <thead>\n",
       "    <tr style=\"text-align: right;\">\n",
       "      <th></th>\n",
       "      <th>emp_no</th>\n",
       "      <th>salary</th>\n",
       "      <th>from_date_x</th>\n",
       "      <th>to_date_x</th>\n",
       "      <th>title</th>\n",
       "      <th>from_date_y</th>\n",
       "      <th>to_date_y</th>\n",
       "    </tr>\n",
       "  </thead>\n",
       "  <tbody>\n",
       "    <tr>\n",
       "      <th>0</th>\n",
       "      <td>10001</td>\n",
       "      <td>60117</td>\n",
       "      <td>1986-06-26</td>\n",
       "      <td>1987-06-26</td>\n",
       "      <td>Senior Engineer</td>\n",
       "      <td>1986-06-26</td>\n",
       "      <td>9999-01-01</td>\n",
       "    </tr>\n",
       "    <tr>\n",
       "      <th>1</th>\n",
       "      <td>10002</td>\n",
       "      <td>65828</td>\n",
       "      <td>1996-08-03</td>\n",
       "      <td>1997-08-03</td>\n",
       "      <td>Staff</td>\n",
       "      <td>1996-08-03</td>\n",
       "      <td>9999-01-01</td>\n",
       "    </tr>\n",
       "    <tr>\n",
       "      <th>2</th>\n",
       "      <td>10003</td>\n",
       "      <td>40006</td>\n",
       "      <td>1995-12-03</td>\n",
       "      <td>1996-12-02</td>\n",
       "      <td>Senior Engineer</td>\n",
       "      <td>1995-12-03</td>\n",
       "      <td>9999-01-01</td>\n",
       "    </tr>\n",
       "    <tr>\n",
       "      <th>3</th>\n",
       "      <td>10004</td>\n",
       "      <td>40054</td>\n",
       "      <td>1986-12-01</td>\n",
       "      <td>1987-12-01</td>\n",
       "      <td>Engineer</td>\n",
       "      <td>1986-12-01</td>\n",
       "      <td>1995-12-01</td>\n",
       "    </tr>\n",
       "    <tr>\n",
       "      <th>4</th>\n",
       "      <td>10004</td>\n",
       "      <td>40054</td>\n",
       "      <td>1986-12-01</td>\n",
       "      <td>1987-12-01</td>\n",
       "      <td>Senior Engineer</td>\n",
       "      <td>1995-12-01</td>\n",
       "      <td>9999-01-01</td>\n",
       "    </tr>\n",
       "  </tbody>\n",
       "</table>\n",
       "</div>"
      ],
      "text/plain": [
       "   emp_no  salary from_date_x   to_date_x            title from_date_y  \\\n",
       "0   10001   60117  1986-06-26  1987-06-26  Senior Engineer  1986-06-26   \n",
       "1   10002   65828  1996-08-03  1997-08-03            Staff  1996-08-03   \n",
       "2   10003   40006  1995-12-03  1996-12-02  Senior Engineer  1995-12-03   \n",
       "3   10004   40054  1986-12-01  1987-12-01         Engineer  1986-12-01   \n",
       "4   10004   40054  1986-12-01  1987-12-01  Senior Engineer  1995-12-01   \n",
       "\n",
       "    to_date_y  \n",
       "0  9999-01-01  \n",
       "1  9999-01-01  \n",
       "2  9999-01-01  \n",
       "3  1995-12-01  \n",
       "4  9999-01-01  "
      ]
     },
     "execution_count": 5,
     "metadata": {},
     "output_type": "execute_result"
    }
   ],
   "source": [
    "# Combine 'salaries' and 'titles' tables with 'merge'\n",
    "combined_data = pd.merge(salaries_data, titles_data, on=\"emp_no\", how=\"inner\")\n",
    "\n",
    "# Preview combined_data\n",
    "combined_data.head()"
   ]
  },
  {
   "cell_type": "code",
   "execution_count": 25,
   "metadata": {},
   "outputs": [
    {
     "data": {
      "text/html": [
       "<div>\n",
       "<style scoped>\n",
       "    .dataframe tbody tr th:only-of-type {\n",
       "        vertical-align: middle;\n",
       "    }\n",
       "\n",
       "    .dataframe tbody tr th {\n",
       "        vertical-align: top;\n",
       "    }\n",
       "\n",
       "    .dataframe thead th {\n",
       "        text-align: right;\n",
       "    }\n",
       "</style>\n",
       "<table border=\"1\" class=\"dataframe\">\n",
       "  <thead>\n",
       "    <tr style=\"text-align: right;\">\n",
       "      <th></th>\n",
       "      <th>Salary Group</th>\n",
       "      <th>Total Count</th>\n",
       "    </tr>\n",
       "  </thead>\n",
       "  <tbody>\n",
       "    <tr>\n",
       "      <th>0</th>\n",
       "      <td>&lt;50,000</td>\n",
       "      <td>158472</td>\n",
       "    </tr>\n",
       "    <tr>\n",
       "      <th>1</th>\n",
       "      <td>50,001-60,000</td>\n",
       "      <td>57917</td>\n",
       "    </tr>\n",
       "    <tr>\n",
       "      <th>2</th>\n",
       "      <td>60,001-70,000</td>\n",
       "      <td>41405</td>\n",
       "    </tr>\n",
       "    <tr>\n",
       "      <th>3</th>\n",
       "      <td>70,001-80,000</td>\n",
       "      <td>24814</td>\n",
       "    </tr>\n",
       "    <tr>\n",
       "      <th>4</th>\n",
       "      <td>80,001-90,000</td>\n",
       "      <td>11844</td>\n",
       "    </tr>\n",
       "    <tr>\n",
       "      <th>5</th>\n",
       "      <td>90,001-100,000</td>\n",
       "      <td>4285</td>\n",
       "    </tr>\n",
       "    <tr>\n",
       "      <th>6</th>\n",
       "      <td>100,001-110,000</td>\n",
       "      <td>1068</td>\n",
       "    </tr>\n",
       "    <tr>\n",
       "      <th>7</th>\n",
       "      <td>110,001-120,000</td>\n",
       "      <td>195</td>\n",
       "    </tr>\n",
       "    <tr>\n",
       "      <th>8</th>\n",
       "      <td>&gt;120,000</td>\n",
       "      <td>24</td>\n",
       "    </tr>\n",
       "  </tbody>\n",
       "</table>\n",
       "</div>"
      ],
      "text/plain": [
       "      Salary Group  Total Count\n",
       "0          <50,000       158472\n",
       "1    50,001-60,000        57917\n",
       "2    60,001-70,000        41405\n",
       "3    70,001-80,000        24814\n",
       "4    80,001-90,000        11844\n",
       "5   90,001-100,000         4285\n",
       "6  100,001-110,000         1068\n",
       "7  110,001-120,000          195\n",
       "8         >120,000           24"
      ]
     },
     "execution_count": 25,
     "metadata": {},
     "output_type": "execute_result"
    }
   ],
   "source": [
    "# MOST COMMON SALARY RANGES FOR EMPLOYEES\n",
    "# Create bins in which to place values based upon the 'salaries' data.\n",
    "salaries_bins = [0, 50000, 60000, 70000, 80000, 90000, 100000, 110000,\n",
    "            120000, 140000]\n",
    "\n",
    "# Create labels for these bins\n",
    "salaries_labels = [\"<50,000\", \"50,001-60,000\", \"60,001-70,000\", \"70,001-80,000\",\n",
    "              \"80,001-90,000\", \"90,001-100,000\", \"100,001-110,000\",\n",
    "              \"110,001-120,000\", \">120,000\"]\n",
    "\n",
    "# Place the data series into a new column inside of the DataFrame\n",
    "combined_data[\"Salary Group\"] = pd.cut(combined_data[\"salary\"], salaries_bins,\n",
    "                                      labels=salaries_labels)\n",
    "\n",
    "# Create a GroupBy object based upon \"Salary Group\"\n",
    "# Categorize the existing players using the age bins\n",
    "salary_group = combined_data.groupby(\"Salary Group\")\n",
    "total_count_salary = salary_group.nunique()[\"emp_no\"]\n",
    "\n",
    "# Summary table for Salary Ranges\n",
    "salary_ranges_df = pd.DataFrame({\"Total Count\": total_count_salary})\n",
    "\n",
    "# Reset Index\n",
    "salary_ranges_df = salary_ranges_df.reset_index()\n",
    "\n",
    "# Preview data\n",
    "salary_ranges_df"
   ]
  },
  {
   "cell_type": "code",
   "execution_count": 27,
   "metadata": {
    "scrolled": true
   },
   "outputs": [
    {
     "data": {
      "image/png": "[encoded data removed]",
      "text/plain": [
       "<Figure size 432x288 with 1 Axes>"
      ]
     },
     "metadata": {
      "needs_background": "light"
     },
     "output_type": "display_data"
    },
    {
     "data": {
      "text/plain": [
       "443308"
      ]
     },
     "execution_count": 27,
     "metadata": {},
     "output_type": "execute_result"
    }
   ],
   "source": [
    "x = combined_data[\"salary\"]\n",
    "num_bins = 9\n",
    "n, bins, patches = plt.hist(x, num_bins, facecolor='blue', alpha=0.5, rwidth=0.9)\n",
    "plt.show()\n",
    "len(x)"
   ]
  },
  {
   "cell_type": "code",
   "execution_count": 29,
   "metadata": {},
   "outputs": [
    {
     "data": {
      "image/png": "[encoded data removed]",
      "text/plain": [
       "<Figure size 432x288 with 1 Axes>"
      ]
     },
     "metadata": {
      "needs_background": "light"
     },
     "output_type": "display_data"
    }
   ],
   "source": [
    "combined_data.hist(column='salary', bins=20, rwidth=0.9)\n",
    "plt.title('MOST COMMON SALARY RANGES FOR EMPLOYEES')\n",
    "plt.xlabel('Salaries')\n",
    "plt.ylabel('Counts')\n",
    "plt.grid(axis='y', alpha=0.75)"
   ]
  },
  {
   "cell_type": "code",
   "execution_count": 8,
   "metadata": {
    "scrolled": true
   },
   "outputs": [
    {
     "data": {
      "image/png": "[encoded data removed]",
      "text/plain": [
       "<Figure size 432x288 with 1 Axes>"
      ]
     },
     "metadata": {
      "needs_background": "light"
     },
     "output_type": "display_data"
    }
   ],
   "source": [
    "# Plot a Bar Chart of average salary by title\n",
    "# Set up x-axis, y-axis and ticks\n",
    "x_axis = salary_ranges_df[\"Salary Group\"]\n",
    "y_axis = salary_ranges_df[\"Total Count\"]\n",
    "ticks = np.arange(len(x_axis))\n",
    "\n",
    "# Create Bar Chart based on 'salary_ranges_df' data\n",
    "plt.bar(x_axis, y_axis, align='center', alpha=.75,        \n",
    "        color=['b', 'g', 'r', 'c', 'm', 'y', 'k'])\n",
    "plt.xticks(ticks, x_axis, rotation='vertical')\n",
    "\n",
    "# Incorporate the other graph properties\n",
    "# plt.ylim(-5, 105)\n",
    "plt.title('Salary Ranges', fontweight=\"bold\")\n",
    "plt.xlabel('Salary Ranges ($)')\n",
    "plt.ylabel('Total employees')\n",
    "\n",
    "# Save the figure as .png.\n",
    "plt.savefig('C:/Users/Jenni/UNCCDABC/Homeworks/sql-challenge/Images/SalaryRanges.png')\n",
    "\n",
    "# Show plot\n",
    "plt.show()"
   ]
  },
  {
   "cell_type": "code",
   "execution_count": 9,
   "metadata": {},
   "outputs": [
    {
     "data": {
      "text/html": [
       "<div>\n",
       "<style scoped>\n",
       "    .dataframe tbody tr th:only-of-type {\n",
       "        vertical-align: middle;\n",
       "    }\n",
       "\n",
       "    .dataframe tbody tr th {\n",
       "        vertical-align: top;\n",
       "    }\n",
       "\n",
       "    .dataframe thead th {\n",
       "        text-align: right;\n",
       "    }\n",
       "</style>\n",
       "<table border=\"1\" class=\"dataframe\">\n",
       "  <thead>\n",
       "    <tr style=\"text-align: right;\">\n",
       "      <th></th>\n",
       "      <th>emp_no</th>\n",
       "      <th>salary</th>\n",
       "    </tr>\n",
       "    <tr>\n",
       "      <th>title</th>\n",
       "      <th></th>\n",
       "      <th></th>\n",
       "    </tr>\n",
       "  </thead>\n",
       "  <tbody>\n",
       "    <tr>\n",
       "      <th>Assistant Engineer</th>\n",
       "      <td>251495.398533</td>\n",
       "      <td>48493.204786</td>\n",
       "    </tr>\n",
       "    <tr>\n",
       "      <th>Engineer</th>\n",
       "      <td>252943.159987</td>\n",
       "      <td>48539.781423</td>\n",
       "    </tr>\n",
       "    <tr>\n",
       "      <th>Manager</th>\n",
       "      <td>110780.833333</td>\n",
       "      <td>51531.041667</td>\n",
       "    </tr>\n",
       "    <tr>\n",
       "      <th>Senior Engineer</th>\n",
       "      <td>253034.375949</td>\n",
       "      <td>48506.751806</td>\n",
       "    </tr>\n",
       "    <tr>\n",
       "      <th>Senior Staff</th>\n",
       "      <td>253423.367183</td>\n",
       "      <td>58503.286614</td>\n",
       "    </tr>\n",
       "    <tr>\n",
       "      <th>Staff</th>\n",
       "      <td>253399.240672</td>\n",
       "      <td>58465.271904</td>\n",
       "    </tr>\n",
       "    <tr>\n",
       "      <th>Technique Leader</th>\n",
       "      <td>251708.951052</td>\n",
       "      <td>48580.505772</td>\n",
       "    </tr>\n",
       "  </tbody>\n",
       "</table>\n",
       "</div>"
      ],
      "text/plain": [
       "                           emp_no        salary\n",
       "title                                          \n",
       "Assistant Engineer  251495.398533  48493.204786\n",
       "Engineer            252943.159987  48539.781423\n",
       "Manager             110780.833333  51531.041667\n",
       "Senior Engineer     253034.375949  48506.751806\n",
       "Senior Staff        253423.367183  58503.286614\n",
       "Staff               253399.240672  58465.271904\n",
       "Technique Leader    251708.951052  48580.505772"
      ]
     },
     "execution_count": 9,
     "metadata": {},
     "output_type": "execute_result"
    }
   ],
   "source": [
    "# Average salary by title\n",
    "combined_groups = combined_data.groupby(\"title\").mean()\n",
    "combined_groups"
   ]
  },
  {
   "cell_type": "code",
   "execution_count": 10,
   "metadata": {},
   "outputs": [
    {
     "data": {
      "text/html": [
       "<style  type=\"text/css\" >\n",
       "</style><table id=\"T_132f44ae_0718_11ea_b33b_3417eb540a7b\" ><thead>    <tr>        <th class=\"blank level0\" ></th>        <th class=\"col_heading level0 col0\" >title</th>        <th class=\"col_heading level0 col1\" >salary</th>    </tr></thead><tbody>\n",
       "                <tr>\n",
       "                        <th id=\"T_132f44ae_0718_11ea_b33b_3417eb540a7blevel0_row0\" class=\"row_heading level0 row0\" >0</th>\n",
       "                        <td id=\"T_132f44ae_0718_11ea_b33b_3417eb540a7brow0_col0\" class=\"data row0 col0\" >Assistant Engineer</td>\n",
       "                        <td id=\"T_132f44ae_0718_11ea_b33b_3417eb540a7brow0_col1\" class=\"data row0 col1\" >$48493</td>\n",
       "            </tr>\n",
       "            <tr>\n",
       "                        <th id=\"T_132f44ae_0718_11ea_b33b_3417eb540a7blevel0_row1\" class=\"row_heading level0 row1\" >1</th>\n",
       "                        <td id=\"T_132f44ae_0718_11ea_b33b_3417eb540a7brow1_col0\" class=\"data row1 col0\" >Engineer</td>\n",
       "                        <td id=\"T_132f44ae_0718_11ea_b33b_3417eb540a7brow1_col1\" class=\"data row1 col1\" >$48540</td>\n",
       "            </tr>\n",
       "            <tr>\n",
       "                        <th id=\"T_132f44ae_0718_11ea_b33b_3417eb540a7blevel0_row2\" class=\"row_heading level0 row2\" >2</th>\n",
       "                        <td id=\"T_132f44ae_0718_11ea_b33b_3417eb540a7brow2_col0\" class=\"data row2 col0\" >Manager</td>\n",
       "                        <td id=\"T_132f44ae_0718_11ea_b33b_3417eb540a7brow2_col1\" class=\"data row2 col1\" >$51531</td>\n",
       "            </tr>\n",
       "            <tr>\n",
       "                        <th id=\"T_132f44ae_0718_11ea_b33b_3417eb540a7blevel0_row3\" class=\"row_heading level0 row3\" >3</th>\n",
       "                        <td id=\"T_132f44ae_0718_11ea_b33b_3417eb540a7brow3_col0\" class=\"data row3 col0\" >Senior Engineer</td>\n",
       "                        <td id=\"T_132f44ae_0718_11ea_b33b_3417eb540a7brow3_col1\" class=\"data row3 col1\" >$48507</td>\n",
       "            </tr>\n",
       "            <tr>\n",
       "                        <th id=\"T_132f44ae_0718_11ea_b33b_3417eb540a7blevel0_row4\" class=\"row_heading level0 row4\" >4</th>\n",
       "                        <td id=\"T_132f44ae_0718_11ea_b33b_3417eb540a7brow4_col0\" class=\"data row4 col0\" >Senior Staff</td>\n",
       "                        <td id=\"T_132f44ae_0718_11ea_b33b_3417eb540a7brow4_col1\" class=\"data row4 col1\" >$58503</td>\n",
       "            </tr>\n",
       "            <tr>\n",
       "                        <th id=\"T_132f44ae_0718_11ea_b33b_3417eb540a7blevel0_row5\" class=\"row_heading level0 row5\" >5</th>\n",
       "                        <td id=\"T_132f44ae_0718_11ea_b33b_3417eb540a7brow5_col0\" class=\"data row5 col0\" >Staff</td>\n",
       "                        <td id=\"T_132f44ae_0718_11ea_b33b_3417eb540a7brow5_col1\" class=\"data row5 col1\" >$58465</td>\n",
       "            </tr>\n",
       "            <tr>\n",
       "                        <th id=\"T_132f44ae_0718_11ea_b33b_3417eb540a7blevel0_row6\" class=\"row_heading level0 row6\" >6</th>\n",
       "                        <td id=\"T_132f44ae_0718_11ea_b33b_3417eb540a7brow6_col0\" class=\"data row6 col0\" >Technique Leader</td>\n",
       "                        <td id=\"T_132f44ae_0718_11ea_b33b_3417eb540a7brow6_col1\" class=\"data row6 col1\" >$48581</td>\n",
       "            </tr>\n",
       "    </tbody></table>"
      ],
      "text/plain": [
       "<pandas.io.formats.style.Styler at 0x23cf18fdfd0>"
      ]
     },
     "execution_count": 10,
     "metadata": {},
     "output_type": "execute_result"
    }
   ],
   "source": [
    "# Drop 'emp_no' column that is not necessary for the next step\n",
    "revised_groups = combined_groups.drop(columns=\"emp_no\")\n",
    "\n",
    "# Reset Index\n",
    "revised_groups = revised_groups.reset_index()\n",
    "\n",
    "# Preview data\n",
    "revised_groups.style.format({'salary': \"${:.0f}\"})"
   ]
  },
  {
   "cell_type": "code",
   "execution_count": 11,
   "metadata": {},
   "outputs": [
    {
     "data": {
      "image/png": "[encoded data removed]",
      "text/plain": [
       "<Figure size 432x288 with 1 Axes>"
      ]
     },
     "metadata": {
      "needs_background": "light"
     },
     "output_type": "display_data"
    }
   ],
   "source": [
    "# Plot a Bar Chart of average salary by title\n",
    "# Set up x-axis, y-axis and ticks\n",
    "x_axis = revised_groups[\"title\"]\n",
    "y_axis = revised_groups[\"salary\"]\n",
    "ticks = np.arange(len(x_axis))\n",
    "\n",
    "# Create Bar Chart based on 'revised_groups' data\n",
    "plt.bar(x_axis, y_axis, align='center', alpha=.75,\n",
    "        color=['b', 'g', 'r', 'c', 'm', 'y', 'k'])\n",
    "plt.xticks(ticks, x_axis, rotation=60)\n",
    "\n",
    "# Incorporate the other graph properties\n",
    "# plt.ylim(-5, 105)\n",
    "plt.title('Average Salary By Title', fontweight=\"bold\")\n",
    "plt.xlabel('Title')\n",
    "plt.ylabel('Salary ($)')\n",
    "\n",
    "# Save the figure as .png.\n",
    "plt.savefig('C:/Users/Jenni/UNCCDABC/Homeworks/sql-challenge/Images/AverageSalaryTitle.png')\n",
    "\n",
    "# Show plot\n",
    "plt.show()"
   ]
  }
 ],
 "metadata": {
  "kernelspec": {
   "display_name": "Python 3",
   "language": "python",
   "name": "python3"
  },
  "language_info": {
   "codemirror_mode": {
    "name": "ipython",
    "version": 3
   },
   "file_extension": ".py",
   "mimetype": "text/x-python",
   "name": "python",
   "nbconvert_exporter": "python",
   "pygments_lexer": "ipython3",
   "version": "3.7.3"
  }
 },
 "nbformat": 4,
 "nbformat_minor": 2
}
